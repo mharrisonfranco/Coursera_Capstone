{
 "cells": [
  {
   "cell_type": "markdown",
   "metadata": {},
   "source": [
    "# Neighborhood Analysis of Denver, Colorado\n",
    "### Project by Megan Harrison"
   ]
  },
  {
   "cell_type": "markdown",
   "metadata": {},
   "source": [
    "## Introduction\n",
    "I was born and raised in Denver, but have lived out of the country for the last 5 years. In the next 6-8 months, I will be moving back to Denver, but do not know where to live, as the landscape of the metropolitan area has changed much due to the city's considerable growth.  \n",
    "\n",
    "In this notebook, I will analyze the neighborhoods in and around Denver, Colorado in order to find the best place to live. I will take into consideration the following factors:\n",
    "\n",
    "* __Neighborhood characteristics__ \n",
    "    * *Outdoor activities* (parks, trails, dog parks, etc.)\n",
    "    * *Restaurants & bars* (coffee shops, breweries, restaurants)\n",
    "* __Housing prices__ (to live within our budget)\n",
    "* __Proximity to downtown and to the airport__ (my husband and I don't want a long commute to work, and we often fly to visit family)\n",
    "\n",
    "This analysis could also be of use to other Denver residents who are looking to move neighborhoods, as well as individuals looking to open venues in neighborhoods with certain characteristics. "
   ]
  },
  {
   "cell_type": "markdown",
   "metadata": {},
   "source": [
    "![alt text](https://assets.simpleviewinc.com/simpleview/image/upload/c_fill,h_280,q_50,w_640/v1/clients/denver/larimer-square-colorado-flags-lights_55bb2276-f0ae-5102-065b8b653961bbb5.jpg) \n",
    "\n",
    "                           Photo of Colorado flags in Denver's famous Larmier Street. "
   ]
  },
  {
   "cell_type": "markdown",
   "metadata": {},
   "source": [
    "## Data Sources"
   ]
  },
  {
   "cell_type": "markdown",
   "metadata": {},
   "source": [
    "To realize this analysis, I will use the following data sources:\n",
    "\n",
    "* __Zillow data__ for Denver neighborhoods and median housing prices\n",
    "http://files.zillowstatic.com/research/public/Neighborhood/Neighborhood_Zhvi_AllHomes.csv\n",
    "\n",
    "    * With this data, I will acquire the unique neighborhoods of the city (‘RegionName’).\n",
    "    * Additionally, the ‘price’ column indicated median house prices of the neighborhood.\n",
    "\n",
    "* __Foursquare data__ to understand the neighborhoods’ characteristics. Given that there are so many categories of variables (235 categories identified in Denver), I will realize a mapping of these categories to more comprehensive groups, thus allowing the clustering algorithm to better generalize.  "
   ]
  },
  {
   "cell_type": "code",
   "execution_count": null,
   "metadata": {},
   "outputs": [],
   "source": []
  }
 ],
 "metadata": {
  "kernelspec": {
   "display_name": "Python 3",
   "language": "python",
   "name": "python3"
  },
  "language_info": {
   "codemirror_mode": {
    "name": "ipython",
    "version": 3
   },
   "file_extension": ".py",
   "mimetype": "text/x-python",
   "name": "python",
   "nbconvert_exporter": "python",
   "pygments_lexer": "ipython3",
   "version": "3.7.4"
  }
 },
 "nbformat": 4,
 "nbformat_minor": 4
}
